{
 "cells": [
  {
   "cell_type": "code",
   "execution_count": null,
   "id": "04f50d4d",
   "metadata": {},
   "outputs": [],
   "source": [
    "import pandas as pd\n",
    "\n",
    "# Load the CSV file\n",
    "df = pd.read_csv('Gold Price (2013-2023) (1).csv')\n",
    "\n",
    "# Display the first few rows\n",
    "print(df.head())\n",
    "\n",
    "# Show basic info\n",
    "print(df.info())\n"
   ]
  },
  {
   "cell_type": "code",
   "execution_count": 4,
   "id": "efb5f534",
   "metadata": {},
   "outputs": [],
   "source": [
    "df.columns = [col.strip().replace(' ', '_').lower() for col in df.columns]\n"
   ]
  },
  {
   "cell_type": "code",
   "execution_count": 6,
   "id": "01aead88",
   "metadata": {},
   "outputs": [],
   "source": [
    "df['date'] = pd.to_datetime(df['date'])\n"
   ]
  },
  {
   "cell_type": "code",
   "execution_count": null,
   "id": "68d1863d",
   "metadata": {},
   "outputs": [],
   "source": [
    "print(df.isnull().sum())\n"
   ]
  },
  {
   "cell_type": "code",
   "execution_count": 10,
   "id": "1aef7618",
   "metadata": {},
   "outputs": [],
   "source": [
    "df = df.dropna()  # or df.fillna(method='ffill', inplace=True)\n"
   ]
  },
  {
   "cell_type": "code",
   "execution_count": 13,
   "id": "b96d1157",
   "metadata": {},
   "outputs": [],
   "source": [
    "df['price'] = df['price'].replace(r'[\\$,]', '', regex=True).astype(float)\n",
    "\n"
   ]
  },
  {
   "cell_type": "code",
   "execution_count": 15,
   "id": "379b9e83",
   "metadata": {},
   "outputs": [],
   "source": [
    "df = df.sort_values(by='date')\n"
   ]
  },
  {
   "cell_type": "code",
   "execution_count": null,
   "id": "cdc07476",
   "metadata": {},
   "outputs": [],
   "source": [
    "import matplotlib.pyplot as plt\n",
    "\n",
    "plt.figure(figsize=(12, 6))\n",
    "plt.plot(df['date'], df['price'], color='gold', linewidth=2)\n",
    "plt.title('Gold Price Trend (2013–2023)', fontsize=16)\n",
    "plt.xlabel('Date')\n",
    "plt.ylabel('Price (USD)')\n",
    "plt.grid(True)\n",
    "plt.tight_layout()\n",
    "plt.show()\n"
   ]
  },
  {
   "cell_type": "code",
   "execution_count": null,
   "id": "0f4c1a85",
   "metadata": {},
   "outputs": [],
   "source": [
    "import seaborn as sns\n",
    "\n",
    "sns.set(style=\"darkgrid\")\n",
    "plt.figure(figsize=(12, 6))\n",
    "sns.lineplot(x='date', y='price', data=df, color='gold')\n",
    "plt.title('Gold Price Trend (2013–2023)')\n",
    "plt.xlabel('Date')\n",
    "plt.ylabel('Price (USD)')\n",
    "plt.show()\n"
   ]
  },
  {
   "cell_type": "code",
   "execution_count": 27,
   "id": "b016997e",
   "metadata": {},
   "outputs": [
    {
     "name": "stdout",
     "output_type": "stream",
     "text": [
      "Index(['price', 'open', 'high', 'low', 'vol.', 'change_%'], dtype='object')\n"
     ]
    }
   ],
   "source": [
    "print(df.columns)\n"
   ]
  },
  {
   "cell_type": "code",
   "execution_count": 29,
   "id": "baf490c1",
   "metadata": {},
   "outputs": [],
   "source": [
    "df.columns = df.columns.str.strip().str.lower()\n"
   ]
  },
  {
   "cell_type": "code",
   "execution_count": 32,
   "id": "54c46339",
   "metadata": {},
   "outputs": [
    {
     "name": "stdout",
     "output_type": "stream",
     "text": [
      "['price', 'open', 'high', 'low', 'vol.', 'change_%']\n"
     ]
    }
   ],
   "source": [
    "print(df.columns.tolist())\n"
   ]
  },
  {
   "cell_type": "code",
   "execution_count": null,
   "id": "2beaeda6",
   "metadata": {},
   "outputs": [],
   "source": [
    "print(df.head())  # Check the first few rows\n"
   ]
  },
  {
   "cell_type": "code",
   "execution_count": 36,
   "id": "09ec3e96",
   "metadata": {},
   "outputs": [],
   "source": [
    "df['date'] = pd.date_range(start='2013-01-01', periods=len(df), freq='D')\n"
   ]
  },
  {
   "cell_type": "code",
   "execution_count": null,
   "id": "f666a792",
   "metadata": {},
   "outputs": [],
   "source": [
    "# Ensure 'date' is in datetime format\n",
    "df['date'] = pd.to_datetime(df['date'])\n",
    "\n",
    "# Set 'date' as index\n",
    "df.set_index('date', inplace=True)\n",
    "\n",
    "# Select numeric columns\n",
    "numeric_df = df.select_dtypes(include='number')\n",
    "\n",
    "# Resample by month-end and compute mean\n",
    "monthly_avg = numeric_df.resample('ME').mean()\n",
    "\n",
    "# Reset index if needed\n",
    "monthly_avg = monthly_avg.reset_index()\n",
    "\n",
    "print(monthly_avg.head())\n"
   ]
  },
  {
   "cell_type": "code",
   "execution_count": null,
   "id": "51e0f2a3",
   "metadata": {},
   "outputs": [],
   "source": [
    "import matplotlib.pyplot as plt\n",
    "\n",
    "# Make sure 'date' is a datetime column (it should be already)\n",
    "monthly_avg['date'] = pd.to_datetime(monthly_avg['date'])\n",
    "\n",
    "plt.figure(figsize=(12, 6))\n",
    "plt.plot(monthly_avg['date'], monthly_avg['price'], linewidth=2)\n",
    "plt.title('Monthly Average Gold Price (2013–2023)', fontsize=16)\n",
    "plt.xlabel('Date')\n",
    "plt.ylabel('Average Price (USD)')\n",
    "plt.grid(True)\n",
    "plt.tight_layout()\n",
    "plt.show()\n"
   ]
  },
  {
   "cell_type": "code",
   "execution_count": null,
   "id": "102ed350",
   "metadata": {},
   "outputs": [],
   "source": [
    "# Resample to year-end ('YE') and compute the mean\n",
    "yearly_avg = numeric_df.resample('YE').mean().reset_index()\n",
    "\n",
    "# Plot\n",
    "plt.figure(figsize=(10, 5))\n",
    "plt.plot(yearly_avg['date'], yearly_avg['price'], marker='o', linewidth=2)\n",
    "plt.title('Yearly Average Gold Price (2013–2023)', fontsize=14)\n",
    "plt.xlabel('Year')\n",
    "plt.ylabel('Average Price (USD)')\n",
    "plt.grid(True)\n",
    "plt.tight_layout()\n",
    "plt.show()\n"
   ]
  },
  {
   "cell_type": "code",
   "execution_count": 43,
   "id": "412e0982",
   "metadata": {},
   "outputs": [],
   "source": [
    "monthly_avg.to_csv('gold_monthly_avg_2013_2023.csv', index=False)\n",
    "yearly_avg.to_csv('gold_yearly_avg_2013_2023.csv', index=False)\n"
   ]
  },
  {
   "cell_type": "code",
   "execution_count": 45,
   "id": "381685d9",
   "metadata": {},
   "outputs": [],
   "source": [
    "monthly_avg['rolling_6m'] = monthly_avg['price'].rolling(window=6).mean()\n"
   ]
  },
  {
   "cell_type": "code",
   "execution_count": 46,
   "id": "e8768303",
   "metadata": {},
   "outputs": [],
   "source": [
    "monthly_avg['pct_change'] = monthly_avg['price'].pct_change() * 100\n"
   ]
  }
 ],
 "metadata": {
  "kernelspec": {
   "display_name": "Python 3",
   "language": "python",
   "name": "python3"
  },
  "language_info": {
   "codemirror_mode": {
    "name": "ipython",
    "version": 3
   },
   "file_extension": ".py",
   "mimetype": "text/x-python",
   "name": "python",
   "nbconvert_exporter": "python",
   "pygments_lexer": "ipython3",
   "version": "3.13.3"
  }
 },
 "nbformat": 4,
 "nbformat_minor": 5
}
